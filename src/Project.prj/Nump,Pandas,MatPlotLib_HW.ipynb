{
 "cells": [
  {
   "cell_type": "code",
   "execution_count": 100,
   "metadata": {},
   "outputs": [],
   "source": [
    "import matplotlib.pyplot as plt\n",
    "from timeit import default_timer as timer\n",
    "import pandas as pd\n",
    "import numpy as np\n",
    "import random"
   ]
  },
  {
   "cell_type": "code",
   "execution_count": 101,
   "metadata": {},
   "outputs": [],
   "source": [
    "#вектор длиной 10\n",
    "x_10 = np.array(random.sample(range(100), 10))\n",
    "y_10 = np.array(random.sample(range(100), 10))\n",
    "#вектор длиной 50\n",
    "x_50 = np.array(random.sample(range(100), 50))\n",
    "y_50 = np.array(random.sample(range(100), 50))\n",
    "#вектор длиной 100\n",
    "x_100 = np.array(random.sample(range(100), 100))\n",
    "y_100 = np.array(random.sample(range(100), 100))"
   ]
  },
  {
   "cell_type": "code",
   "execution_count": 102,
   "metadata": {},
   "outputs": [],
   "source": [
    "#наивное скалярное произведение \n",
    "def naivScal(x,y):\n",
    "    assert x.ndim == 1 and y.ndim == 1\n",
    "    assert x.size == y.size\n",
    "    res = 0\n",
    "    for i in range(x.size):\n",
    "        res += x[i]*y[i]\n",
    "    return res"
   ]
  },
  {
   "cell_type": "code",
   "execution_count": 103,
   "metadata": {},
   "outputs": [],
   "source": [
    "#реализация в NumPy\n",
    "def NumPyScal(x,y):\n",
    "    assert x.ndim == 1 and y.ndim == 1\n",
    "    assert x.size == y.size\n",
    "    return np.dot(x,y)"
   ]
  },
  {
   "cell_type": "code",
   "execution_count": 104,
   "metadata": {},
   "outputs": [],
   "source": [
    "#Функция измерения времени исполнения заданной функции\n",
    "def time(func, x, y):\n",
    "    times = []\n",
    "    for iter in range(10000):\n",
    "        t = timer()\n",
    "        func(x, y)\n",
    "        delta = timer() - t\n",
    "        times.append(delta)\n",
    "    return sum(times)/len(times)"
   ]
  },
  {
   "cell_type": "code",
   "execution_count": 105,
   "metadata": {},
   "outputs": [
    {
     "data": {
      "text/plain": [
       "<matplotlib.legend.Legend at 0x6309363648>"
      ]
     },
     "execution_count": 105,
     "metadata": {},
     "output_type": "execute_result"
    },
    {
     "data": {
      "image/png": "[encoded data removed]",
      "text/plain": [
       "<Figure size 432x288 with 1 Axes>"
      ]
     },
     "metadata": {
      "needs_background": "light"
     },
     "output_type": "display_data"
    }
   ],
   "source": [
    "#Значения для оси y\n",
    "timeNaivScal = np.array([time(naivScal, x_10, y_10), time(naivScal, x_50, y_50), time(naivScal, x_100, y_100)])\n",
    "timeNumPyScal = np.array([time(NumPyScal, x_10, y_10), time(NumPyScal, x_50, y_50), time(NumPyScal, x_100, y_100)])\n",
    "#график.\n",
    "plt.xlabel(\"Legth\")\n",
    "plt.ylabel(\"Time\")\n",
    "plt.grid()\n",
    "plt.plot(xRange, timeNaivScal, '-', color = 'b', label = \"Naive\")\n",
    "plt.plot(xRange, timeNumPyScal, '--', color = 'y', label = \"NumPy\")\n",
    "plt.legend(loc=\"upper left\")\n"
   ]
  },
  {
   "cell_type": "code",
   "execution_count": 106,
   "metadata": {},
   "outputs": [
    {
     "name": "stdout",
     "output_type": "stream",
     "text": [
      "   Length  Naive time  NumPy time\n",
      "0      10    0.000005    0.000001\n",
      "1      50    0.000019    0.000001\n",
      "2     100    0.000037    0.000001\n"
     ]
    }
   ],
   "source": [
    "#Создание DataFrame.\n",
    "res = pd.DataFrame({\n",
    "    \"Length\": xRange,\n",
    "    \"Naive time\": timeNaivScal,\n",
    "    \"NumPy time\": timeNumPyScal\n",
    "})\n",
    "print(res)"
   ]
  },
  {
   "cell_type": "code",
   "execution_count": 108,
   "metadata": {},
   "outputs": [
    {
     "name": "stdout",
     "output_type": "stream",
     "text": [
      "Наивное произведение выполняется дольше\n"
     ]
    }
   ],
   "source": [
    "#сравнение эффективности двух способов при помощи обращения к DataFrame\n",
    "if (res.at[0,\"Naive time\"] > res.at[0,\"NumPy time\"]) & (res.at[1,\"Naive time\"] > res.at[1,\"NumPy time\"]) & (res.at[1,\"Naive time\"] > res.at[1,\"NumPy time\"]):\n",
    "    print(\"Наивное произведение выполняется дольше\")\n",
    "else:\n",
    "    print('Наивное произведение выполняется быстрее')\n"
   ]
  },
  {
   "cell_type": "code",
   "execution_count": null,
   "metadata": {},
   "outputs": [],
   "source": []
  }
 ],
 "metadata": {
  "kernelspec": {
   "display_name": "Python 3",
   "language": "python",
   "name": "python3"
  },
  "language_info": {
   "codemirror_mode": {
    "name": "ipython",
    "version": 3
   },
   "file_extension": ".py",
   "mimetype": "text/x-python",
   "name": "python",
   "nbconvert_exporter": "python",
   "pygments_lexer": "ipython3",
   "version": "3.7.7"
  }
 },
 "nbformat": 4,
 "nbformat_minor": 4
}
